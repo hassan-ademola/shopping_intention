{
 "cells": [
  {
   "cell_type": "markdown",
   "id": "4a624655",
   "metadata": {},
   "source": [
    "# Import Libraries"
   ]
  },
  {
   "cell_type": "code",
   "execution_count": 1,
   "id": "2457fd15",
   "metadata": {},
   "outputs": [],
   "source": [
    "import pandas as pd\n",
    "import numpy as np\n",
    "import matplotlib.pyplot as plt\n",
    "import seaborn as sns\n",
    "%matplotlib inline\n",
    "import warnings\n",
    "warnings.filterwarnings('ignore')"
   ]
  },
  {
   "cell_type": "markdown",
   "id": "e66eea61",
   "metadata": {},
   "source": [
    "# Data Inspection"
   ]
  },
  {
   "cell_type": "code",
   "execution_count": 2,
   "id": "708fa321",
   "metadata": {},
   "outputs": [
    {
     "data": {
      "text/html": [
       "<div>\n",
       "<style scoped>\n",
       "    .dataframe tbody tr th:only-of-type {\n",
       "        vertical-align: middle;\n",
       "    }\n",
       "\n",
       "    .dataframe tbody tr th {\n",
       "        vertical-align: top;\n",
       "    }\n",
       "\n",
       "    .dataframe thead th {\n",
       "        text-align: right;\n",
       "    }\n",
       "</style>\n",
       "<table border=\"1\" class=\"dataframe\">\n",
       "  <thead>\n",
       "    <tr style=\"text-align: right;\">\n",
       "      <th></th>\n",
       "      <th>Administrative</th>\n",
       "      <th>Administrative_Duration</th>\n",
       "      <th>Informational</th>\n",
       "      <th>Informational_Duration</th>\n",
       "      <th>ProductRelated</th>\n",
       "      <th>ProductRelated_Duration</th>\n",
       "      <th>BounceRates</th>\n",
       "      <th>ExitRates</th>\n",
       "      <th>PageValues</th>\n",
       "      <th>SpecialDay</th>\n",
       "      <th>Month</th>\n",
       "      <th>OperatingSystems</th>\n",
       "      <th>Browser</th>\n",
       "      <th>Region</th>\n",
       "      <th>TrafficType</th>\n",
       "      <th>VisitorType</th>\n",
       "      <th>Weekend</th>\n",
       "      <th>Revenue</th>\n",
       "    </tr>\n",
       "  </thead>\n",
       "  <tbody>\n",
       "    <tr>\n",
       "      <th>0</th>\n",
       "      <td>0</td>\n",
       "      <td>0.0</td>\n",
       "      <td>0</td>\n",
       "      <td>0.0</td>\n",
       "      <td>1</td>\n",
       "      <td>0.000000</td>\n",
       "      <td>0.20</td>\n",
       "      <td>0.20</td>\n",
       "      <td>0.0</td>\n",
       "      <td>0.0</td>\n",
       "      <td>Feb</td>\n",
       "      <td>1</td>\n",
       "      <td>1</td>\n",
       "      <td>1</td>\n",
       "      <td>1</td>\n",
       "      <td>Returning_Visitor</td>\n",
       "      <td>False</td>\n",
       "      <td>False</td>\n",
       "    </tr>\n",
       "    <tr>\n",
       "      <th>1</th>\n",
       "      <td>0</td>\n",
       "      <td>0.0</td>\n",
       "      <td>0</td>\n",
       "      <td>0.0</td>\n",
       "      <td>2</td>\n",
       "      <td>64.000000</td>\n",
       "      <td>0.00</td>\n",
       "      <td>0.10</td>\n",
       "      <td>0.0</td>\n",
       "      <td>0.0</td>\n",
       "      <td>Feb</td>\n",
       "      <td>2</td>\n",
       "      <td>2</td>\n",
       "      <td>1</td>\n",
       "      <td>2</td>\n",
       "      <td>Returning_Visitor</td>\n",
       "      <td>False</td>\n",
       "      <td>False</td>\n",
       "    </tr>\n",
       "    <tr>\n",
       "      <th>2</th>\n",
       "      <td>0</td>\n",
       "      <td>0.0</td>\n",
       "      <td>0</td>\n",
       "      <td>0.0</td>\n",
       "      <td>1</td>\n",
       "      <td>0.000000</td>\n",
       "      <td>0.20</td>\n",
       "      <td>0.20</td>\n",
       "      <td>0.0</td>\n",
       "      <td>0.0</td>\n",
       "      <td>Feb</td>\n",
       "      <td>4</td>\n",
       "      <td>1</td>\n",
       "      <td>9</td>\n",
       "      <td>3</td>\n",
       "      <td>Returning_Visitor</td>\n",
       "      <td>False</td>\n",
       "      <td>False</td>\n",
       "    </tr>\n",
       "    <tr>\n",
       "      <th>3</th>\n",
       "      <td>0</td>\n",
       "      <td>0.0</td>\n",
       "      <td>0</td>\n",
       "      <td>0.0</td>\n",
       "      <td>2</td>\n",
       "      <td>2.666667</td>\n",
       "      <td>0.05</td>\n",
       "      <td>0.14</td>\n",
       "      <td>0.0</td>\n",
       "      <td>0.0</td>\n",
       "      <td>Feb</td>\n",
       "      <td>3</td>\n",
       "      <td>2</td>\n",
       "      <td>2</td>\n",
       "      <td>4</td>\n",
       "      <td>Returning_Visitor</td>\n",
       "      <td>False</td>\n",
       "      <td>False</td>\n",
       "    </tr>\n",
       "    <tr>\n",
       "      <th>4</th>\n",
       "      <td>0</td>\n",
       "      <td>0.0</td>\n",
       "      <td>0</td>\n",
       "      <td>0.0</td>\n",
       "      <td>10</td>\n",
       "      <td>627.500000</td>\n",
       "      <td>0.02</td>\n",
       "      <td>0.05</td>\n",
       "      <td>0.0</td>\n",
       "      <td>0.0</td>\n",
       "      <td>Feb</td>\n",
       "      <td>3</td>\n",
       "      <td>3</td>\n",
       "      <td>1</td>\n",
       "      <td>4</td>\n",
       "      <td>Returning_Visitor</td>\n",
       "      <td>True</td>\n",
       "      <td>False</td>\n",
       "    </tr>\n",
       "  </tbody>\n",
       "</table>\n",
       "</div>"
      ],
      "text/plain": [
       "   Administrative  Administrative_Duration  Informational  \\\n",
       "0               0                      0.0              0   \n",
       "1               0                      0.0              0   \n",
       "2               0                      0.0              0   \n",
       "3               0                      0.0              0   \n",
       "4               0                      0.0              0   \n",
       "\n",
       "   Informational_Duration  ProductRelated  ProductRelated_Duration  \\\n",
       "0                     0.0               1                 0.000000   \n",
       "1                     0.0               2                64.000000   \n",
       "2                     0.0               1                 0.000000   \n",
       "3                     0.0               2                 2.666667   \n",
       "4                     0.0              10               627.500000   \n",
       "\n",
       "   BounceRates  ExitRates  PageValues  SpecialDay Month  OperatingSystems  \\\n",
       "0         0.20       0.20         0.0         0.0   Feb                 1   \n",
       "1         0.00       0.10         0.0         0.0   Feb                 2   \n",
       "2         0.20       0.20         0.0         0.0   Feb                 4   \n",
       "3         0.05       0.14         0.0         0.0   Feb                 3   \n",
       "4         0.02       0.05         0.0         0.0   Feb                 3   \n",
       "\n",
       "   Browser  Region  TrafficType        VisitorType  Weekend  Revenue  \n",
       "0        1       1            1  Returning_Visitor    False    False  \n",
       "1        2       1            2  Returning_Visitor    False    False  \n",
       "2        1       9            3  Returning_Visitor    False    False  \n",
       "3        2       2            4  Returning_Visitor    False    False  \n",
       "4        3       1            4  Returning_Visitor     True    False  "
      ]
     },
     "execution_count": 2,
     "metadata": {},
     "output_type": "execute_result"
    }
   ],
   "source": [
    "# load data into dataframe\n",
    "df = pd.read_csv('data.csv')\n",
    "\n",
    "# inspect top few rows\n",
    "df.head()"
   ]
  },
  {
   "cell_type": "code",
   "execution_count": 4,
   "id": "bf82034d",
   "metadata": {},
   "outputs": [],
   "source": [
    "# make column names consistent\n",
    "df.columns = df.columns.str.replace('_','')"
   ]
  },
  {
   "cell_type": "code",
   "execution_count": 5,
   "id": "e488ce94",
   "metadata": {},
   "outputs": [
    {
     "name": "stdout",
     "output_type": "stream",
     "text": [
      "<class 'pandas.core.frame.DataFrame'>\n",
      "RangeIndex: 12330 entries, 0 to 12329\n",
      "Data columns (total 18 columns):\n",
      " #   Column                  Non-Null Count  Dtype  \n",
      "---  ------                  --------------  -----  \n",
      " 0   Administrative          12330 non-null  int64  \n",
      " 1   AdministrativeDuration  12330 non-null  float64\n",
      " 2   Informational           12330 non-null  int64  \n",
      " 3   InformationalDuration   12330 non-null  float64\n",
      " 4   ProductRelated          12330 non-null  int64  \n",
      " 5   ProductRelatedDuration  12330 non-null  float64\n",
      " 6   BounceRates             12330 non-null  float64\n",
      " 7   ExitRates               12330 non-null  float64\n",
      " 8   PageValues              12330 non-null  float64\n",
      " 9   SpecialDay              12330 non-null  float64\n",
      " 10  Month                   12330 non-null  object \n",
      " 11  OperatingSystems        12330 non-null  int64  \n",
      " 12  Browser                 12330 non-null  int64  \n",
      " 13  Region                  12330 non-null  int64  \n",
      " 14  TrafficType             12330 non-null  int64  \n",
      " 15  VisitorType             12330 non-null  object \n",
      " 16  Weekend                 12330 non-null  bool   \n",
      " 17  Revenue                 12330 non-null  bool   \n",
      "dtypes: bool(2), float64(7), int64(7), object(2)\n",
      "memory usage: 1.5+ MB\n"
     ]
    }
   ],
   "source": [
    "# get a summary of the data\n",
    "df.info()"
   ]
  },
  {
   "cell_type": "markdown",
   "id": "95249f2f",
   "metadata": {},
   "source": [
    "- There are 12,330 records and 18 columns in the dataset\n",
    "- There are no mising values  \n",
    "  \n",
    "Some numerical columns are supposed to be categories. According to the data description, there are 10 numerical and 8 categorical attributes. Let's put each column in their correct data types"
   ]
  },
  {
   "cell_type": "code",
   "execution_count": 38,
   "id": "b8959026",
   "metadata": {},
   "outputs": [
    {
     "name": "stdout",
     "output_type": "stream",
     "text": [
      "<class 'pandas.core.frame.DataFrame'>\n",
      "RangeIndex: 12330 entries, 0 to 12329\n",
      "Data columns (total 18 columns):\n",
      " #   Column                  Non-Null Count  Dtype   \n",
      "---  ------                  --------------  -----   \n",
      " 0   Administrative          12330 non-null  int64   \n",
      " 1   AdministrativeDuration  12330 non-null  float64 \n",
      " 2   Informational           12330 non-null  int64   \n",
      " 3   InformationalDuration   12330 non-null  float64 \n",
      " 4   ProductRelated          12330 non-null  int64   \n",
      " 5   ProductRelatedDuration  12330 non-null  float64 \n",
      " 6   BounceRates             12330 non-null  float64 \n",
      " 7   ExitRates               12330 non-null  float64 \n",
      " 8   PageValues              12330 non-null  float64 \n",
      " 9   SpecialDay              12330 non-null  float64 \n",
      " 10  Month                   12330 non-null  category\n",
      " 11  OperatingSystems        12330 non-null  category\n",
      " 12  Browser                 12330 non-null  category\n",
      " 13  Region                  12330 non-null  category\n",
      " 14  TrafficType             12330 non-null  category\n",
      " 15  VisitorType             12330 non-null  category\n",
      " 16  Weekend                 12330 non-null  category\n",
      " 17  Revenue                 12330 non-null  category\n",
      "dtypes: category(8), float64(7), int64(3)\n",
      "memory usage: 1.0 MB\n"
     ]
    }
   ],
   "source": [
    "# create lists of categorical from numerical columns\n",
    "cat_cols = df.columns[-8:]\n",
    "num_cols = df.columns[:10]\n",
    "\n",
    "# convert Weekend and Revenue values to binary\n",
    "df[['Weekend','Revenue']] = df[['Weekend','Revenue']].astype('int8')\n",
    "\n",
    "# convert categorical columns to category data type\n",
    "for col in cat_cols:\n",
    "    df[col] = df[col].astype('category')\n",
    "\n",
    "# confirm changes\n",
    "df.info()"
   ]
  },
  {
   "cell_type": "code",
   "execution_count": 39,
   "id": "be6c60d6",
   "metadata": {},
   "outputs": [
    {
     "data": {
      "text/html": [
       "<div>\n",
       "<style scoped>\n",
       "    .dataframe tbody tr th:only-of-type {\n",
       "        vertical-align: middle;\n",
       "    }\n",
       "\n",
       "    .dataframe tbody tr th {\n",
       "        vertical-align: top;\n",
       "    }\n",
       "\n",
       "    .dataframe thead th {\n",
       "        text-align: right;\n",
       "    }\n",
       "</style>\n",
       "<table border=\"1\" class=\"dataframe\">\n",
       "  <thead>\n",
       "    <tr style=\"text-align: right;\">\n",
       "      <th></th>\n",
       "      <th>Administrative</th>\n",
       "      <th>AdministrativeDuration</th>\n",
       "      <th>Informational</th>\n",
       "      <th>InformationalDuration</th>\n",
       "      <th>ProductRelated</th>\n",
       "      <th>ProductRelatedDuration</th>\n",
       "      <th>BounceRates</th>\n",
       "      <th>ExitRates</th>\n",
       "      <th>PageValues</th>\n",
       "      <th>SpecialDay</th>\n",
       "      <th>Month</th>\n",
       "      <th>OperatingSystems</th>\n",
       "      <th>Browser</th>\n",
       "      <th>Region</th>\n",
       "      <th>TrafficType</th>\n",
       "      <th>VisitorType</th>\n",
       "      <th>Weekend</th>\n",
       "      <th>Revenue</th>\n",
       "    </tr>\n",
       "  </thead>\n",
       "  <tbody>\n",
       "    <tr>\n",
       "      <th>0</th>\n",
       "      <td>0</td>\n",
       "      <td>0.0</td>\n",
       "      <td>0</td>\n",
       "      <td>0.0</td>\n",
       "      <td>1</td>\n",
       "      <td>0.000000</td>\n",
       "      <td>0.20</td>\n",
       "      <td>0.20</td>\n",
       "      <td>0.0</td>\n",
       "      <td>0.0</td>\n",
       "      <td>Feb</td>\n",
       "      <td>1</td>\n",
       "      <td>1</td>\n",
       "      <td>1</td>\n",
       "      <td>1</td>\n",
       "      <td>Returning_Visitor</td>\n",
       "      <td>0</td>\n",
       "      <td>0</td>\n",
       "    </tr>\n",
       "    <tr>\n",
       "      <th>1</th>\n",
       "      <td>0</td>\n",
       "      <td>0.0</td>\n",
       "      <td>0</td>\n",
       "      <td>0.0</td>\n",
       "      <td>2</td>\n",
       "      <td>64.000000</td>\n",
       "      <td>0.00</td>\n",
       "      <td>0.10</td>\n",
       "      <td>0.0</td>\n",
       "      <td>0.0</td>\n",
       "      <td>Feb</td>\n",
       "      <td>2</td>\n",
       "      <td>2</td>\n",
       "      <td>1</td>\n",
       "      <td>2</td>\n",
       "      <td>Returning_Visitor</td>\n",
       "      <td>0</td>\n",
       "      <td>0</td>\n",
       "    </tr>\n",
       "    <tr>\n",
       "      <th>2</th>\n",
       "      <td>0</td>\n",
       "      <td>0.0</td>\n",
       "      <td>0</td>\n",
       "      <td>0.0</td>\n",
       "      <td>1</td>\n",
       "      <td>0.000000</td>\n",
       "      <td>0.20</td>\n",
       "      <td>0.20</td>\n",
       "      <td>0.0</td>\n",
       "      <td>0.0</td>\n",
       "      <td>Feb</td>\n",
       "      <td>4</td>\n",
       "      <td>1</td>\n",
       "      <td>9</td>\n",
       "      <td>3</td>\n",
       "      <td>Returning_Visitor</td>\n",
       "      <td>0</td>\n",
       "      <td>0</td>\n",
       "    </tr>\n",
       "    <tr>\n",
       "      <th>3</th>\n",
       "      <td>0</td>\n",
       "      <td>0.0</td>\n",
       "      <td>0</td>\n",
       "      <td>0.0</td>\n",
       "      <td>2</td>\n",
       "      <td>2.666667</td>\n",
       "      <td>0.05</td>\n",
       "      <td>0.14</td>\n",
       "      <td>0.0</td>\n",
       "      <td>0.0</td>\n",
       "      <td>Feb</td>\n",
       "      <td>3</td>\n",
       "      <td>2</td>\n",
       "      <td>2</td>\n",
       "      <td>4</td>\n",
       "      <td>Returning_Visitor</td>\n",
       "      <td>0</td>\n",
       "      <td>0</td>\n",
       "    </tr>\n",
       "    <tr>\n",
       "      <th>4</th>\n",
       "      <td>0</td>\n",
       "      <td>0.0</td>\n",
       "      <td>0</td>\n",
       "      <td>0.0</td>\n",
       "      <td>10</td>\n",
       "      <td>627.500000</td>\n",
       "      <td>0.02</td>\n",
       "      <td>0.05</td>\n",
       "      <td>0.0</td>\n",
       "      <td>0.0</td>\n",
       "      <td>Feb</td>\n",
       "      <td>3</td>\n",
       "      <td>3</td>\n",
       "      <td>1</td>\n",
       "      <td>4</td>\n",
       "      <td>Returning_Visitor</td>\n",
       "      <td>1</td>\n",
       "      <td>0</td>\n",
       "    </tr>\n",
       "  </tbody>\n",
       "</table>\n",
       "</div>"
      ],
      "text/plain": [
       "   Administrative  AdministrativeDuration  Informational  \\\n",
       "0               0                     0.0              0   \n",
       "1               0                     0.0              0   \n",
       "2               0                     0.0              0   \n",
       "3               0                     0.0              0   \n",
       "4               0                     0.0              0   \n",
       "\n",
       "   InformationalDuration  ProductRelated  ProductRelatedDuration  BounceRates  \\\n",
       "0                    0.0               1                0.000000         0.20   \n",
       "1                    0.0               2               64.000000         0.00   \n",
       "2                    0.0               1                0.000000         0.20   \n",
       "3                    0.0               2                2.666667         0.05   \n",
       "4                    0.0              10              627.500000         0.02   \n",
       "\n",
       "   ExitRates  PageValues  SpecialDay Month OperatingSystems Browser Region  \\\n",
       "0       0.20         0.0         0.0   Feb                1       1      1   \n",
       "1       0.10         0.0         0.0   Feb                2       2      1   \n",
       "2       0.20         0.0         0.0   Feb                4       1      9   \n",
       "3       0.14         0.0         0.0   Feb                3       2      2   \n",
       "4       0.05         0.0         0.0   Feb                3       3      1   \n",
       "\n",
       "  TrafficType        VisitorType Weekend Revenue  \n",
       "0           1  Returning_Visitor       0       0  \n",
       "1           2  Returning_Visitor       0       0  \n",
       "2           3  Returning_Visitor       0       0  \n",
       "3           4  Returning_Visitor       0       0  \n",
       "4           4  Returning_Visitor       1       0  "
      ]
     },
     "execution_count": 39,
     "metadata": {},
     "output_type": "execute_result"
    }
   ],
   "source": [
    "df.head()"
   ]
  },
  {
   "cell_type": "code",
   "execution_count": 40,
   "id": "1aec27cd",
   "metadata": {},
   "outputs": [
    {
     "data": {
      "text/html": [
       "<div>\n",
       "<style scoped>\n",
       "    .dataframe tbody tr th:only-of-type {\n",
       "        vertical-align: middle;\n",
       "    }\n",
       "\n",
       "    .dataframe tbody tr th {\n",
       "        vertical-align: top;\n",
       "    }\n",
       "\n",
       "    .dataframe thead th {\n",
       "        text-align: right;\n",
       "    }\n",
       "</style>\n",
       "<table border=\"1\" class=\"dataframe\">\n",
       "  <thead>\n",
       "    <tr style=\"text-align: right;\">\n",
       "      <th></th>\n",
       "      <th>Administrative</th>\n",
       "      <th>AdministrativeDuration</th>\n",
       "      <th>Informational</th>\n",
       "      <th>InformationalDuration</th>\n",
       "      <th>ProductRelated</th>\n",
       "      <th>ProductRelatedDuration</th>\n",
       "      <th>BounceRates</th>\n",
       "      <th>ExitRates</th>\n",
       "      <th>PageValues</th>\n",
       "      <th>SpecialDay</th>\n",
       "    </tr>\n",
       "  </thead>\n",
       "  <tbody>\n",
       "    <tr>\n",
       "      <th>count</th>\n",
       "      <td>12330.000000</td>\n",
       "      <td>12330.000000</td>\n",
       "      <td>12330.000000</td>\n",
       "      <td>12330.000000</td>\n",
       "      <td>12330.000000</td>\n",
       "      <td>12330.000000</td>\n",
       "      <td>12330.000000</td>\n",
       "      <td>12330.000000</td>\n",
       "      <td>12330.000000</td>\n",
       "      <td>12330.000000</td>\n",
       "    </tr>\n",
       "    <tr>\n",
       "      <th>mean</th>\n",
       "      <td>2.315166</td>\n",
       "      <td>80.818611</td>\n",
       "      <td>0.503569</td>\n",
       "      <td>34.472398</td>\n",
       "      <td>31.731468</td>\n",
       "      <td>1194.746220</td>\n",
       "      <td>0.022191</td>\n",
       "      <td>0.043073</td>\n",
       "      <td>5.889258</td>\n",
       "      <td>0.061427</td>\n",
       "    </tr>\n",
       "    <tr>\n",
       "      <th>std</th>\n",
       "      <td>3.321784</td>\n",
       "      <td>176.779107</td>\n",
       "      <td>1.270156</td>\n",
       "      <td>140.749294</td>\n",
       "      <td>44.475503</td>\n",
       "      <td>1913.669288</td>\n",
       "      <td>0.048488</td>\n",
       "      <td>0.048597</td>\n",
       "      <td>18.568437</td>\n",
       "      <td>0.198917</td>\n",
       "    </tr>\n",
       "    <tr>\n",
       "      <th>min</th>\n",
       "      <td>0.000000</td>\n",
       "      <td>0.000000</td>\n",
       "      <td>0.000000</td>\n",
       "      <td>0.000000</td>\n",
       "      <td>0.000000</td>\n",
       "      <td>0.000000</td>\n",
       "      <td>0.000000</td>\n",
       "      <td>0.000000</td>\n",
       "      <td>0.000000</td>\n",
       "      <td>0.000000</td>\n",
       "    </tr>\n",
       "    <tr>\n",
       "      <th>25%</th>\n",
       "      <td>0.000000</td>\n",
       "      <td>0.000000</td>\n",
       "      <td>0.000000</td>\n",
       "      <td>0.000000</td>\n",
       "      <td>7.000000</td>\n",
       "      <td>184.137500</td>\n",
       "      <td>0.000000</td>\n",
       "      <td>0.014286</td>\n",
       "      <td>0.000000</td>\n",
       "      <td>0.000000</td>\n",
       "    </tr>\n",
       "    <tr>\n",
       "      <th>50%</th>\n",
       "      <td>1.000000</td>\n",
       "      <td>7.500000</td>\n",
       "      <td>0.000000</td>\n",
       "      <td>0.000000</td>\n",
       "      <td>18.000000</td>\n",
       "      <td>598.936905</td>\n",
       "      <td>0.003112</td>\n",
       "      <td>0.025156</td>\n",
       "      <td>0.000000</td>\n",
       "      <td>0.000000</td>\n",
       "    </tr>\n",
       "    <tr>\n",
       "      <th>75%</th>\n",
       "      <td>4.000000</td>\n",
       "      <td>93.256250</td>\n",
       "      <td>0.000000</td>\n",
       "      <td>0.000000</td>\n",
       "      <td>38.000000</td>\n",
       "      <td>1464.157214</td>\n",
       "      <td>0.016813</td>\n",
       "      <td>0.050000</td>\n",
       "      <td>0.000000</td>\n",
       "      <td>0.000000</td>\n",
       "    </tr>\n",
       "    <tr>\n",
       "      <th>max</th>\n",
       "      <td>27.000000</td>\n",
       "      <td>3398.750000</td>\n",
       "      <td>24.000000</td>\n",
       "      <td>2549.375000</td>\n",
       "      <td>705.000000</td>\n",
       "      <td>63973.522230</td>\n",
       "      <td>0.200000</td>\n",
       "      <td>0.200000</td>\n",
       "      <td>361.763742</td>\n",
       "      <td>1.000000</td>\n",
       "    </tr>\n",
       "  </tbody>\n",
       "</table>\n",
       "</div>"
      ],
      "text/plain": [
       "       Administrative  AdministrativeDuration  Informational  \\\n",
       "count    12330.000000            12330.000000   12330.000000   \n",
       "mean         2.315166               80.818611       0.503569   \n",
       "std          3.321784              176.779107       1.270156   \n",
       "min          0.000000                0.000000       0.000000   \n",
       "25%          0.000000                0.000000       0.000000   \n",
       "50%          1.000000                7.500000       0.000000   \n",
       "75%          4.000000               93.256250       0.000000   \n",
       "max         27.000000             3398.750000      24.000000   \n",
       "\n",
       "       InformationalDuration  ProductRelated  ProductRelatedDuration  \\\n",
       "count           12330.000000    12330.000000            12330.000000   \n",
       "mean               34.472398       31.731468             1194.746220   \n",
       "std               140.749294       44.475503             1913.669288   \n",
       "min                 0.000000        0.000000                0.000000   \n",
       "25%                 0.000000        7.000000              184.137500   \n",
       "50%                 0.000000       18.000000              598.936905   \n",
       "75%                 0.000000       38.000000             1464.157214   \n",
       "max              2549.375000      705.000000            63973.522230   \n",
       "\n",
       "        BounceRates     ExitRates    PageValues    SpecialDay  \n",
       "count  12330.000000  12330.000000  12330.000000  12330.000000  \n",
       "mean       0.022191      0.043073      5.889258      0.061427  \n",
       "std        0.048488      0.048597     18.568437      0.198917  \n",
       "min        0.000000      0.000000      0.000000      0.000000  \n",
       "25%        0.000000      0.014286      0.000000      0.000000  \n",
       "50%        0.003112      0.025156      0.000000      0.000000  \n",
       "75%        0.016813      0.050000      0.000000      0.000000  \n",
       "max        0.200000      0.200000    361.763742      1.000000  "
      ]
     },
     "execution_count": 40,
     "metadata": {},
     "output_type": "execute_result"
    }
   ],
   "source": [
    "# get the description of the numerical columns\n",
    "df.describe()"
   ]
  },
  {
   "cell_type": "code",
   "execution_count": 41,
   "id": "b572e558",
   "metadata": {},
   "outputs": [
    {
     "data": {
      "image/png": "[encoded data removed]",
      "text/plain": [
       "<Figure size 864x864 with 12 Axes>"
      ]
     },
     "metadata": {
      "needs_background": "light"
     },
     "output_type": "display_data"
    }
   ],
   "source": [
    "df.hist(figsize=(12,12));"
   ]
  },
  {
   "cell_type": "code",
   "execution_count": 58,
   "id": "c49decde",
   "metadata": {},
   "outputs": [],
   "source": [
    "# create train and test set\n",
    "from sklearn.model_selection import train_test_split\n",
    "train,test = train_test_split(df,test_size=0.25,random_state=42)\n",
    "\n",
    "# reset indices\n",
    "train.reset_index(drop=True,inplace=True)\n",
    "test.reset_index(drop=True,inplace=True)"
   ]
  },
  {
   "cell_type": "markdown",
   "id": "fc15a7f3",
   "metadata": {},
   "source": [
    "# Exploratory Data Analysis"
   ]
  },
  {
   "cell_type": "code",
   "execution_count": 79,
   "id": "fc04b143",
   "metadata": {},
   "outputs": [],
   "source": [
    "# create a copy of the data for exploration\n",
    "shopping = df.copy()"
   ]
  },
  {
   "cell_type": "markdown",
   "id": "f2998214",
   "metadata": {},
   "source": [
    "# Revenue"
   ]
  },
  {
   "cell_type": "code",
   "execution_count": 80,
   "id": "01585b21",
   "metadata": {
    "scrolled": false
   },
   "outputs": [
    {
     "data": {
      "image/png": "[encoded data removed]",
      "text/plain": [
       "<Figure size 432x288 with 1 Axes>"
      ]
     },
     "metadata": {
      "needs_background": "light"
     },
     "output_type": "display_data"
    }
   ],
   "source": [
    "(shopping.Revenue.value_counts(normalize=True)*100).plot.bar(color=['red','green'],alpha=.8);"
   ]
  },
  {
   "cell_type": "markdown",
   "id": "aebcf586",
   "metadata": {},
   "source": [
    "Less than **20 percent** of the site visitors finalized a transaction"
   ]
  },
  {
   "cell_type": "code",
   "execution_count": 87,
   "id": "1d3a66fd",
   "metadata": {},
   "outputs": [],
   "source": [
    "# create a dataframe of visitors who finalized a transaction\n",
    "purchased = shopping[shopping.Revenue==1]"
   ]
  },
  {
   "cell_type": "markdown",
   "id": "d742f002",
   "metadata": {},
   "source": [
    "## Weekend"
   ]
  },
  {
   "cell_type": "code",
   "execution_count": 114,
   "id": "b169d539",
   "metadata": {
    "scrolled": true
   },
   "outputs": [
    {
     "data": {
      "image/png": "[encoded data removed]",
      "text/plain": [
       "<Figure size 432x288 with 1 Axes>"
      ]
     },
     "metadata": {
      "needs_background": "light"
     },
     "output_type": "display_data"
    }
   ],
   "source": [
    "(shopping.Weekend.value_counts(normalize=True)*100).plot.barh()\n",
    "plt.title('Weekend Visitors');"
   ]
  },
  {
   "cell_type": "markdown",
   "id": "d6d3bea7",
   "metadata": {},
   "source": [
    "Around **25 percent** of  the visitors visited the site on weekend"
   ]
  },
  {
   "cell_type": "markdown",
   "id": "1f0603c5",
   "metadata": {},
   "source": [
    "### What percentage of the purchases came from weekend visitors?"
   ]
  },
  {
   "cell_type": "code",
   "execution_count": 112,
   "id": "f222c900",
   "metadata": {},
   "outputs": [
    {
     "data": {
      "image/png": "[encoded data removed]",
      "text/plain": [
       "<Figure size 432x288 with 1 Axes>"
      ]
     },
     "metadata": {
      "needs_background": "light"
     },
     "output_type": "display_data"
    }
   ],
   "source": [
    "(purchased.Weekend.value_counts(normalize=True)*100).plot.barh()\n",
    "plt.title('Purchases from Weekday and Weekend Visits');"
   ]
  },
  {
   "cell_type": "markdown",
   "id": "dfd873c9",
   "metadata": {},
   "source": [
    "Weekend visits resulted to around **a quarter** of the finalized transactions. This isn't suprising since the site recorded most visits on weekdays."
   ]
  },
  {
   "cell_type": "markdown",
   "id": "44647d6a",
   "metadata": {},
   "source": [
    "### What percentage of the weekend visitors finalized their transaction?"
   ]
  },
  {
   "cell_type": "code",
   "execution_count": 113,
   "id": "7413bdf6",
   "metadata": {
    "scrolled": true
   },
   "outputs": [
    {
     "data": {
      "image/png": "[encoded data removed]",
      "text/plain": [
       "<Figure size 432x288 with 1 Axes>"
      ]
     },
     "metadata": {
      "needs_background": "light"
     },
     "output_type": "display_data"
    }
   ],
   "source": [
    "(shopping[shopping.Weekend==1].Revenue.value_counts(normalize=True)*100).plot.barh()\n",
    "plt.title('Finalized Transactions by Weekend Visitors');"
   ]
  },
  {
   "cell_type": "markdown",
   "id": "c0ceaa57",
   "metadata": {},
   "source": [
    "About **18 percent** of the weekend visitors finalized their transactions"
   ]
  },
  {
   "cell_type": "markdown",
   "id": "b173e2b4",
   "metadata": {},
   "source": [
    "## Visitor Type"
   ]
  },
  {
   "cell_type": "code",
   "execution_count": 115,
   "id": "bc1a27f9",
   "metadata": {
    "scrolled": true
   },
   "outputs": [
    {
     "data": {
      "image/png": "[encoded data removed]",
      "text/plain": [
       "<Figure size 432x288 with 1 Axes>"
      ]
     },
     "metadata": {
      "needs_background": "light"
     },
     "output_type": "display_data"
    }
   ],
   "source": [
    "(shopping.VisitorType.value_counts(normalize=True)*100).plot.barh()\n",
    "plt.title('Visitor Types');"
   ]
  },
  {
   "cell_type": "markdown",
   "id": "229cf49c",
   "metadata": {},
   "source": [
    "Over **80 percent** of  the visitors were returning visitors"
   ]
  },
  {
   "cell_type": "markdown",
   "id": "ae1a1e15",
   "metadata": {},
   "source": [
    "### What percentage of the purchases came from each visitor type?"
   ]
  },
  {
   "cell_type": "code",
   "execution_count": 118,
   "id": "6f5bd4d8",
   "metadata": {},
   "outputs": [
    {
     "data": {
      "image/png": "[encoded data removed]",
      "text/plain": [
       "<Figure size 432x288 with 1 Axes>"
      ]
     },
     "metadata": {
      "needs_background": "light"
     },
     "output_type": "display_data"
    }
   ],
   "source": [
    "(purchased.VisitorType.value_counts(normalize=True)*100).plot.barh()\n",
    "plt.title('Purchases from Various Visitors');"
   ]
  },
  {
   "cell_type": "markdown",
   "id": "502ce4b3",
   "metadata": {},
   "source": [
    "Returning visitors account for about **80 percent** of the finalized transactions"
   ]
  },
  {
   "cell_type": "markdown",
   "id": "5f02d8db",
   "metadata": {},
   "source": [
    "### What is the percentage of finalized transactions for each visitor type ?"
   ]
  },
  {
   "cell_type": "code",
   "execution_count": 142,
   "id": "be59f5a9",
   "metadata": {},
   "outputs": [
    {
     "data": {
      "image/png": "[encoded data removed]",
      "text/plain": [
       "<Figure size 432x288 with 1 Axes>"
      ]
     },
     "metadata": {
      "needs_background": "light"
     },
     "output_type": "display_data"
    }
   ],
   "source": [
    "visitor_type=pd.crosstab(index=shopping.VisitorType,columns=shopping.Revenue).reset_index()\n",
    "visitor_type['percent_finalized']=visitor_type.apply(lambda x: x[1]*100/(x[1]+x[0]),axis=1)\n",
    "sns.barplot(x='VisitorType',y='percent_finalized',data=visitor_type)\n",
    "plt.title('Percentage of Finalized Transactions by VisitorType');"
   ]
  },
  {
   "cell_type": "markdown",
   "id": "a2390485",
   "metadata": {},
   "source": [
    "Out of the three visitor types, a larger percentage of new visitors finalized their transactions"
   ]
  },
  {
   "cell_type": "code",
   "execution_count": null,
   "id": "696317c5",
   "metadata": {},
   "outputs": [],
   "source": []
  },
  {
   "cell_type": "markdown",
   "id": "1fec4f7a",
   "metadata": {},
   "source": [
    "## Traffic Type"
   ]
  },
  {
   "cell_type": "code",
   "execution_count": 146,
   "id": "2a0419d0",
   "metadata": {
    "scrolled": true
   },
   "outputs": [
    {
     "data": {
      "image/png": "[encoded data removed]",
      "text/plain": [
       "<Figure size 432x288 with 1 Axes>"
      ]
     },
     "metadata": {
      "needs_background": "light"
     },
     "output_type": "display_data"
    }
   ],
   "source": [
    "(shopping.TrafficType.value_counts(normalize=True)*100).plot.barh()\n",
    "plt.title('Traffic Types');"
   ]
  },
  {
   "cell_type": "markdown",
   "id": "e2cd7ebd",
   "metadata": {},
   "source": [
    "Most of  the visitors arrived the website through traffic type 2"
   ]
  },
  {
   "cell_type": "markdown",
   "id": "f2842594",
   "metadata": {},
   "source": [
    "### What percentage of the purchases came from each traffic type?"
   ]
  },
  {
   "cell_type": "code",
   "execution_count": 148,
   "id": "64a2b50b",
   "metadata": {},
   "outputs": [
    {
     "data": {
      "image/png": "[encoded data removed]",
      "text/plain": [
       "<Figure size 432x288 with 1 Axes>"
      ]
     },
     "metadata": {
      "needs_background": "light"
     },
     "output_type": "display_data"
    }
   ],
   "source": [
    "(purchased.TrafficType.value_counts(normalize=True)*100).plot.barh()\n",
    "plt.title('Purchases from Various Traffic');"
   ]
  },
  {
   "cell_type": "markdown",
   "id": "9a13f094",
   "metadata": {},
   "source": [
    "Traffic Type 2 accounts for over **40 percent** of the finalized transactions"
   ]
  },
  {
   "cell_type": "markdown",
   "id": "27cce3b8",
   "metadata": {},
   "source": [
    "### What is the percentage of finalized transactions for each traffic type?"
   ]
  },
  {
   "cell_type": "code",
   "execution_count": 149,
   "id": "ed9cea44",
   "metadata": {},
   "outputs": [
    {
     "data": {
      "image/png": "[encoded data removed]",
      "text/plain": [
       "<Figure size 432x288 with 1 Axes>"
      ]
     },
     "metadata": {
      "needs_background": "light"
     },
     "output_type": "display_data"
    }
   ],
   "source": [
    "traffic_type=pd.crosstab(index=shopping.TrafficType,columns=shopping.Revenue).reset_index()\n",
    "traffic_type['percent_finalized']=traffic_type.apply(lambda x: x[1]*100/(x[1]+x[0]),axis=1)\n",
    "sns.barplot(x='TrafficType',y='percent_finalized',data=traffic_type)\n",
    "plt.title('Percentage of Finalized Transactions by TrafficType');"
   ]
  },
  {
   "cell_type": "markdown",
   "id": "7a6e4477",
   "metadata": {},
   "source": [
    "Out of all traffic types, a larger percentage of type 16 visitors finalized their transactions. Traffic Types 12, 15, 17, and 18 have almost no finalized transactions"
   ]
  },
  {
   "cell_type": "code",
   "execution_count": null,
   "id": "03cee231",
   "metadata": {},
   "outputs": [],
   "source": []
  },
  {
   "cell_type": "markdown",
   "id": "33d64f91",
   "metadata": {},
   "source": [
    "## Region"
   ]
  },
  {
   "cell_type": "code",
   "execution_count": 155,
   "id": "09fcb663",
   "metadata": {
    "scrolled": true
   },
   "outputs": [
    {
     "data": {
      "image/png": "[encoded data removed]",
      "text/plain": [
       "<Figure size 432x288 with 1 Axes>"
      ]
     },
     "metadata": {
      "needs_background": "light"
     },
     "output_type": "display_data"
    }
   ],
   "source": [
    "(shopping.Region.value_counts(normalize=True)*100).plot.barh()\n",
    "plt.title('Regions');"
   ]
  },
  {
   "cell_type": "markdown",
   "id": "38328d91",
   "metadata": {},
   "source": [
    "About **40 percent** of  the visitors came from **region 1**"
   ]
  },
  {
   "cell_type": "markdown",
   "id": "fd1bb435",
   "metadata": {},
   "source": [
    "### What percentage of the purchases came from each region?"
   ]
  },
  {
   "cell_type": "code",
   "execution_count": 152,
   "id": "6aa27763",
   "metadata": {},
   "outputs": [
    {
     "data": {
      "image/png": "[encoded data removed]",
      "text/plain": [
       "<Figure size 432x288 with 1 Axes>"
      ]
     },
     "metadata": {
      "needs_background": "light"
     },
     "output_type": "display_data"
    }
   ],
   "source": [
    "(purchased.Region.value_counts(normalize=True)*100).plot.barh()\n",
    "plt.title('Purchases from Various Regions');"
   ]
  },
  {
   "cell_type": "markdown",
   "id": "1be43fe5",
   "metadata": {},
   "source": [
    "Region 1 accounts for about **40 percent** of the finalized transactions"
   ]
  },
  {
   "cell_type": "markdown",
   "id": "70210692",
   "metadata": {},
   "source": [
    "### What is the percentage of finalized transactions for each region?"
   ]
  },
  {
   "cell_type": "code",
   "execution_count": 153,
   "id": "8f72df25",
   "metadata": {},
   "outputs": [
    {
     "data": {
      "image/png": "[encoded data removed]",
      "text/plain": [
       "<Figure size 432x288 with 1 Axes>"
      ]
     },
     "metadata": {
      "needs_background": "light"
     },
     "output_type": "display_data"
    }
   ],
   "source": [
    "region=pd.crosstab(index=shopping.Region,columns=shopping.Revenue).reset_index()\n",
    "region['percent_finalized']=region.apply(lambda x: x[1]*100/(x[1]+x[0]),axis=1)\n",
    "sns.barplot(x='Region',y='percent_finalized',data=region)\n",
    "plt.title('Percentage of Finalized Transactions by Region');"
   ]
  },
  {
   "cell_type": "markdown",
   "id": "be51e2aa",
   "metadata": {},
   "source": [
    "The regions have almost equal percentage of finalized transactions"
   ]
  },
  {
   "cell_type": "code",
   "execution_count": null,
   "id": "e69743d0",
   "metadata": {},
   "outputs": [],
   "source": []
  },
  {
   "cell_type": "markdown",
   "id": "ac1f004c",
   "metadata": {},
   "source": [
    "## Browser"
   ]
  },
  {
   "cell_type": "code",
   "execution_count": 157,
   "id": "13100d96",
   "metadata": {
    "scrolled": true
   },
   "outputs": [
    {
     "data": {
      "image/png": "[encoded data removed]",
      "text/plain": [
       "<Figure size 432x288 with 1 Axes>"
      ]
     },
     "metadata": {
      "needs_background": "light"
     },
     "output_type": "display_data"
    }
   ],
   "source": [
    "(shopping.Browser.value_counts(normalize=True)*100).plot.barh()\n",
    "plt.title('Browsers');"
   ]
  },
  {
   "cell_type": "markdown",
   "id": "04ea0e43",
   "metadata": {},
   "source": [
    "Over **60 percent** of  the visitors accessed the website with browser 2"
   ]
  },
  {
   "cell_type": "markdown",
   "id": "9d2ef34e",
   "metadata": {},
   "source": [
    "### What percentage of the purchases came from each region?"
   ]
  },
  {
   "cell_type": "code",
   "execution_count": 152,
   "id": "0a9fe7de",
   "metadata": {},
   "outputs": [
    {
     "data": {
      "image/png": "[encoded data removed]",
      "text/plain": [
       "<Figure size 432x288 with 1 Axes>"
      ]
     },
     "metadata": {
      "needs_background": "light"
     },
     "output_type": "display_data"
    }
   ],
   "source": [
    "(purchased.Region.value_counts(normalize=True)*100).plot.barh()\n",
    "plt.title('Purchases from Various Regions');"
   ]
  },
  {
   "cell_type": "markdown",
   "id": "ca8029c7",
   "metadata": {},
   "source": [
    "Region 1 accounts for about **40 percent** of the finalized transactions"
   ]
  },
  {
   "cell_type": "markdown",
   "id": "b896aed1",
   "metadata": {},
   "source": [
    "### What is the percentage of finalized transactions for each region?"
   ]
  },
  {
   "cell_type": "code",
   "execution_count": 153,
   "id": "05bce3ed",
   "metadata": {},
   "outputs": [
    {
     "data": {
      "image/png": "[encoded data removed]",
      "text/plain": [
       "<Figure size 432x288 with 1 Axes>"
      ]
     },
     "metadata": {
      "needs_background": "light"
     },
     "output_type": "display_data"
    }
   ],
   "source": [
    "region=pd.crosstab(index=shopping.Region,columns=shopping.Revenue).reset_index()\n",
    "region['percent_finalized']=region.apply(lambda x: x[1]*100/(x[1]+x[0]),axis=1)\n",
    "sns.barplot(x='Region',y='percent_finalized',data=region)\n",
    "plt.title('Percentage of Finalized Transactions by Region');"
   ]
  },
  {
   "cell_type": "markdown",
   "id": "5f2ae1e5",
   "metadata": {},
   "source": [
    "The regions have almost equal percentage of finalized transactions"
   ]
  },
  {
   "cell_type": "code",
   "execution_count": 150,
   "id": "b2558434",
   "metadata": {},
   "outputs": [
    {
     "data": {
      "text/plain": [
       "Index(['Month', 'OperatingSystems', 'Browser', 'Region', 'TrafficType',\n",
       "       'VisitorType', 'Weekend', 'Revenue'],\n",
       "      dtype='object')"
      ]
     },
     "execution_count": 150,
     "metadata": {},
     "output_type": "execute_result"
    }
   ],
   "source": [
    "cat_cols"
   ]
  }
 ],
 "metadata": {
  "kernelspec": {
   "display_name": "Python 3",
   "language": "python",
   "name": "python3"
  },
  "language_info": {
   "codemirror_mode": {
    "name": "ipython",
    "version": 3
   },
   "file_extension": ".py",
   "mimetype": "text/x-python",
   "name": "python",
   "nbconvert_exporter": "python",
   "pygments_lexer": "ipython3",
   "version": "3.7.3"
  }
 },
 "nbformat": 4,
 "nbformat_minor": 5
}
